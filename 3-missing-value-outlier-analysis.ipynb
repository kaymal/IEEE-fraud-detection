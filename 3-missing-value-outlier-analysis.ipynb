{
 "cells": [
  {
   "cell_type": "markdown",
   "metadata": {},
   "source": [
    "# IEEE-CIS Fraud Detection"
   ]
  },
  {
   "cell_type": "markdown",
   "metadata": {},
   "source": [
    "## Missing Value and Outlier Analysis"
   ]
  },
  {
   "cell_type": "code",
   "execution_count": 308,
   "metadata": {},
   "outputs": [
    {
     "data": {
      "text/plain": [
       "C13  C6     0.808531\n",
       "C6   C13    0.808531\n",
       "C14  C10    0.853009\n",
       "C10  C14    0.853009\n",
       "C6   C12    0.858182\n",
       "              ...   \n",
       "C1   C11    0.996515\n",
       "C8   C10    0.996970\n",
       "C10  C8     0.996970\n",
       "C12  C7     0.999489\n",
       "C7   C12    0.999489\n",
       "Length: 92, dtype: float64"
      ]
     },
     "execution_count": 308,
     "metadata": {},
     "output_type": "execute_result"
    }
   ],
   "source": [
    "def corr_thresh(data, thres):\n",
    "    '''\n",
    "    Returns the corelation matrix with columns which have higher value than the threshold.\n",
    "    '''\n",
    "    # Create a correlation DataFrame\n",
    "    corr = data.corr()\n",
    "    \n",
    "    # Change the self corelation from \"1\" to \"0\"\n",
    "    for i in range(len(corr)):\n",
    "        corr.iloc[i, i] = 0\n",
    "    \n",
    "    # Stack > select > unstack\n",
    "    c = corr.stack()\n",
    "    c_stacked = c[c.abs()>thres]\n",
    "    c_unstacked = c_stacked.unstack(1)\n",
    "    \n",
    "    return c_unstacked\n",
    "\n",
    "corr_new = corr_thresh(train[C_cols], 0.8)\n",
    "corr_new.stack().sort_values()"
   ]
  },
  {
   "cell_type": "code",
   "execution_count": 312,
   "metadata": {},
   "outputs": [
    {
     "name": "stdout",
     "output_type": "stream",
     "text": [
      "['C2', 'C4', 'C6', 'C7', 'C8', 'C9', 'C10', 'C11', 'C12', 'C13', 'C14']\n"
     ]
    }
   ],
   "source": [
    "def corr_drop_list(data, thres):\n",
    "    '''\n",
    "    Returns list of columns to drop\n",
    "    '''\n",
    "    # Create a correlation DataFrame\n",
    "    corr = data.corr().abs()\n",
    "    \n",
    "    # Select upper triangle of correlation matrix\n",
    "    corr_upper = corr.where(np.triu(np.ones(corr.shape), k=1).astype('bool'))\n",
    "    \n",
    "    # Find columns with correlation greater than the threshold\n",
    "    drop_cols = [column for column in corr_upper.columns if any(corr_upper[column] > thres)]\n",
    "    \n",
    "    return drop_cols\n",
    "\n",
    "drop_list = corr_drop_list(train[C_cols], thres = .8)\n",
    "\n",
    "len(drop_list)\n",
    "\n",
    "print(drop_list)"
   ]
  }
 ],
 "metadata": {
  "kernelspec": {
   "display_name": "Python 3",
   "language": "python",
   "name": "python3"
  },
  "language_info": {
   "codemirror_mode": {
    "name": "ipython",
    "version": 3
   },
   "file_extension": ".py",
   "mimetype": "text/x-python",
   "name": "python",
   "nbconvert_exporter": "python",
   "pygments_lexer": "ipython3",
   "version": "3.7.3"
  }
 },
 "nbformat": 4,
 "nbformat_minor": 4
}
