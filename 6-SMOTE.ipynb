{
 "cells": [
  {
   "cell_type": "code",
   "execution_count": 1,
   "metadata": {},
   "outputs": [],
   "source": [
    "# Import necessary modules\n",
    "\n",
    "import pandas as pd\n",
    "import numpy as np\n",
    "\n",
    "%matplotlib inline\n",
    "import matplotlib.pyplot as plt\n",
    "\n",
    "import pickle\n",
    "\n",
    "from sklearn.model_selection import train_test_split\n",
    "from sklearn.decomposition import PCA\n",
    "from sklearn.preprocessing import MinMaxScaler\n",
    "from sklearn.preprocessing import StandardScaler\n",
    "\n",
    "from sklearn.metrics import classification_report,  confusion_matrix\n",
    "from sklearn.ensemble import RandomForestClassifier"
   ]
  },
  {
   "cell_type": "code",
   "execution_count": 2,
   "metadata": {},
   "outputs": [],
   "source": [
    "# Import train data\n",
    "df = pd.read_pickle('dataset/train_engineered_new.pkl')\n",
    "test = pd.read_pickle('dataset/test_engineered_new.pkl')"
   ]
  },
  {
   "cell_type": "markdown",
   "metadata": {
    "toc-hr-collapsed": true
   },
   "source": [
    "## Evaluation Metrics"
   ]
  },
  {
   "cell_type": "markdown",
   "metadata": {},
   "source": [
    "### Classification Metrics"
   ]
  },
  {
   "cell_type": "code",
   "execution_count": 3,
   "metadata": {},
   "outputs": [],
   "source": [
    "from sklearn.metrics import classification_report, confusion_matrix\n",
    "from sklearn.metrics import accuracy_score, roc_auc_score\n",
    "from sklearn.metrics import average_precision_score, precision_recall_curve\n",
    "\n",
    "\n",
    "def eval_metrics(actual, pred):\n",
    "    print(\"Accuracy: \", accuracy_score(actual, pred))\n",
    "    print (confusion_matrix(actual, pred))\n",
    "    print (classification_report(actual, pred))\n",
    "    \n",
    "def model_results(X_train, y_train, X_test, y_test, model):\n",
    "    # Fit the training model to the training set\n",
    "    model.fit(X_train, y_train)\n",
    "    \n",
    "    # Obtain the predicted values and probabilities from the model \n",
    "    predicted = model.predict(X_test)\n",
    "    probs = model.predict_proba(X_test)\n",
    "    \n",
    "    # Print the accuracy and roc_auc_score performance metric\n",
    "    print(\"Accuracy: \", accuracy_score(y_test, predicted))\n",
    "    print(\"AUC: \", roc_auc_score(y_test, probs[:,1]))\n",
    "    print(\"-----\")\n",
    "    # Print the classification report and confusion matrix\n",
    "    print (confusion_matrix(y_test, predicted))\n",
    "    print (classification_report(y_test, predicted))"
   ]
  },
  {
   "cell_type": "markdown",
   "metadata": {
    "toc-hr-collapsed": true
   },
   "source": [
    "## Create X and y"
   ]
  },
  {
   "cell_type": "markdown",
   "metadata": {},
   "source": [
    "### With Missing"
   ]
  },
  {
   "cell_type": "code",
   "execution_count": 36,
   "metadata": {},
   "outputs": [
    {
     "data": {
      "text/plain": [
       "(590540, 109)"
      ]
     },
     "execution_count": 36,
     "metadata": {},
     "output_type": "execute_result"
    }
   ],
   "source": [
    "# Create a list of columns to drop\n",
    "remove_list = ['isFraud']\n",
    "\n",
    "# Create features and target\n",
    "X = df.drop(remove_list, axis=1)\n",
    "X = pd.get_dummies(X)\n",
    "y = df.isFraud\n",
    "\n",
    "# Split data into training and test set\n",
    "X_train, X_test, y_train, y_test = train_test_split(X, y, test_size=.3, random_state=0, stratify=y)\n",
    "\n",
    "X.shape"
   ]
  },
  {
   "cell_type": "markdown",
   "metadata": {},
   "source": [
    "### Without Missing"
   ]
  },
  {
   "cell_type": "code",
   "execution_count": 8,
   "metadata": {},
   "outputs": [
    {
     "data": {
      "text/plain": [
       "(346886, 92)"
      ]
     },
     "execution_count": 8,
     "metadata": {},
     "output_type": "execute_result"
    }
   ],
   "source": [
    "# Create a list of columns to drop\n",
    "remove_list = ['isFraud']\n",
    "\n",
    "# Create a list of columns with more than 20% missing\n",
    "remove_missing_cols = df.isna().mean()[df.isna().mean()>0.2].index.to_list()\n",
    "# df.drop(remove_missing_cols, axis=1, inplace=True)\n",
    "\n",
    "no_missing = df.drop(remove_missing_cols, axis=1).dropna()\n",
    "\n",
    "# Create features and target\n",
    "X = no_missing.drop(remove_list, axis=1)\n",
    "y = no_missing.isFraud\n",
    "\n",
    "# Split data into training and test set\n",
    "X_train, X_test, y_train, y_test = train_test_split(X, y, test_size=.3, random_state=0, stratify=y)\n",
    "\n",
    "X.shape"
   ]
  },
  {
   "cell_type": "markdown",
   "metadata": {},
   "source": [
    "## Pipeline"
   ]
  },
  {
   "cell_type": "code",
   "execution_count": 14,
   "metadata": {},
   "outputs": [
    {
     "name": "stdout",
     "output_type": "stream",
     "text": [
      "[4.38579482e-01 3.44616903e-01 1.18522384e-01 3.80642733e-02\n",
      " 3.16319289e-02 1.97857929e-02 7.79176771e-03 6.54208611e-04\n",
      " 1.22596019e-04 5.79793898e-05]\n",
      "[0.43857948 0.78319639 0.90171877 0.93978304 0.97141497 0.99120076\n",
      " 0.99899253 0.99964674 0.99976934 0.99982732]\n"
     ]
    }
   ],
   "source": [
    "from sklearn.preprocessing import RobustScaler\n",
    "from sklearn.decomposition import PCA\n",
    "\n",
    "scaler = RobustScaler()\n",
    "X_scaled = scaler.fit_transform(X)\n",
    "\n",
    "pca = PCA(n_components=10)\n",
    "p_components = pca.fit_transform(X_scaled)\n",
    "\n",
    "print(pca.explained_variance_ratio_)\n",
    "print(pca.explained_variance_ratio_.cumsum())"
   ]
  },
  {
   "cell_type": "code",
   "execution_count": 33,
   "metadata": {},
   "outputs": [],
   "source": [
    "from sklearn.preprocessing import MinMaxScaler\n",
    "from sklearn.decomposition import PCA\n",
    "from imblearn.over_sampling import SMOTE\n",
    "from sklearn.ensemble import RandomForestClassifier\n",
    "# from sklearn.neighbors import KNeighborsClassifier as KNN\n",
    "from imblearn.pipeline import Pipeline\n",
    "#from sklearn.model_selection import GridSearchCV\n",
    "\n",
    "\n",
    "\n",
    "# Initiate steps\n",
    "smt = SMOTE(sampling_strategy=\"minority\", random_state=42)\n",
    "rf = RandomForestClassifier(n_estimators=200, max_depth=30, \n",
    "                            random_state=42)\n",
    "\n",
    "# Create the pipeline\n",
    "pipeline = Pipeline([('smt', smt), \n",
    "                     ('rf', rf)])"
   ]
  },
  {
   "cell_type": "code",
   "execution_count": 20,
   "metadata": {},
   "outputs": [
    {
     "name": "stdout",
     "output_type": "stream",
     "text": [
      "Accuracy:  0.9554897853285415\n",
      "AUC:  0.881943433442838\n",
      "-----\n",
      "[[98261  3723]\n",
      " [  909  1173]]\n",
      "              precision    recall  f1-score   support\n",
      "\n",
      "           0       0.99      0.96      0.98    101984\n",
      "           1       0.24      0.56      0.34      2082\n",
      "\n",
      "    accuracy                           0.96    104066\n",
      "   macro avg       0.62      0.76      0.66    104066\n",
      "weighted avg       0.98      0.96      0.96    104066\n",
      "\n"
     ]
    }
   ],
   "source": [
    "model_results(X_train, y_train, X_test, y_test, pipeline)"
   ]
  },
  {
   "cell_type": "code",
   "execution_count": 24,
   "metadata": {},
   "outputs": [
    {
     "name": "stdout",
     "output_type": "stream",
     "text": [
      "Accuracy:  0.9850191224799646\n",
      "AUC:  0.8895722859429533\n",
      "-----\n",
      "[[101886     98]\n",
      " [  1461    621]]\n",
      "              precision    recall  f1-score   support\n",
      "\n",
      "           0       0.99      1.00      0.99    101984\n",
      "           1       0.86      0.30      0.44      2082\n",
      "\n",
      "    accuracy                           0.99    104066\n",
      "   macro avg       0.92      0.65      0.72    104066\n",
      "weighted avg       0.98      0.99      0.98    104066\n",
      "\n"
     ]
    }
   ],
   "source": [
    "model_results(X_train, y_train, X_test, y_test, pipeline)"
   ]
  },
  {
   "cell_type": "code",
   "execution_count": 34,
   "metadata": {},
   "outputs": [
    {
     "name": "stdout",
     "output_type": "stream",
     "text": [
      "Accuracy:  0.9853554475044684\n",
      "AUC:  0.8935515317503233\n",
      "-----\n",
      "[[101957     27]\n",
      " [  1497    585]]\n",
      "              precision    recall  f1-score   support\n",
      "\n",
      "           0       0.99      1.00      0.99    101984\n",
      "           1       0.96      0.28      0.43      2082\n",
      "\n",
      "    accuracy                           0.99    104066\n",
      "   macro avg       0.97      0.64      0.71    104066\n",
      "weighted avg       0.98      0.99      0.98    104066\n",
      "\n"
     ]
    }
   ],
   "source": [
    "model_results(X_train, y_train, X_test, y_test, pipeline)"
   ]
  },
  {
   "cell_type": "code",
   "execution_count": 32,
   "metadata": {},
   "outputs": [
    {
     "name": "stdout",
     "output_type": "stream",
     "text": [
      "Accuracy:  0.9853554475044684\n",
      "AUC:  0.8935515317503233\n",
      "-----\n",
      "[[101957     27]\n",
      " [  1497    585]]\n",
      "              precision    recall  f1-score   support\n",
      "\n",
      "           0       0.99      1.00      0.99    101984\n",
      "           1       0.96      0.28      0.43      2082\n",
      "\n",
      "    accuracy                           0.99    104066\n",
      "   macro avg       0.97      0.64      0.71    104066\n",
      "weighted avg       0.98      0.99      0.98    104066\n",
      "\n"
     ]
    }
   ],
   "source": [
    "model_results(X_train, y_train, X_test, y_test, pipeline)"
   ]
  },
  {
   "cell_type": "code",
   "execution_count": 36,
   "metadata": {},
   "outputs": [
    {
     "name": "stdout",
     "output_type": "stream",
     "text": [
      "Accuracy:  0.9848173274652624\n",
      "AUC:  0.9179964673782812\n",
      "-----\n",
      "[[101979      5]\n",
      " [  1575    507]]\n",
      "              precision    recall  f1-score   support\n",
      "\n",
      "           0       0.98      1.00      0.99    101984\n",
      "           1       0.99      0.24      0.39      2082\n",
      "\n",
      "    accuracy                           0.98    104066\n",
      "   macro avg       0.99      0.62      0.69    104066\n",
      "weighted avg       0.98      0.98      0.98    104066\n",
      "\n"
     ]
    }
   ],
   "source": [
    "rf = RandomForestClassifier(n_estimators=400, max_depth=40, \n",
    "                            class_weight='balanced', random_state=42, \n",
    "                            n_jobs=-1)\n",
    "\n",
    "model_results(X_train, y_train, X_test, y_test, rf)"
   ]
  },
  {
   "cell_type": "code",
   "execution_count": null,
   "metadata": {},
   "outputs": [],
   "source": [
    "# # Fit the pipeline to the train set\n",
    "# pipeline.fit(X_train, y_train)\n",
    "\n",
    "# # Predict the labels of the test set\n",
    "# y_pred = pipeline.predict(X_test)\n",
    "\n",
    "# print(confusion_matrix(y_test, y_pred))\n",
    "# print(classification_report(y_test, y_pred))"
   ]
  },
  {
   "cell_type": "markdown",
   "metadata": {},
   "source": [
    "## LightGBM"
   ]
  },
  {
   "cell_type": "code",
   "execution_count": 4,
   "metadata": {},
   "outputs": [
    {
     "ename": "ModuleNotFoundError",
     "evalue": "No module named 'lightgbm'",
     "output_type": "error",
     "traceback": [
      "\u001b[0;31m---------------------------------------------------------------------------\u001b[0m",
      "\u001b[0;31mModuleNotFoundError\u001b[0m                       Traceback (most recent call last)",
      "\u001b[0;32m<ipython-input-4-5dacb4a27011>\u001b[0m in \u001b[0;36m<module>\u001b[0;34m\u001b[0m\n\u001b[0;32m----> 1\u001b[0;31m \u001b[0;32mimport\u001b[0m \u001b[0mlightgbm\u001b[0m \u001b[0;32mas\u001b[0m \u001b[0mlgb\u001b[0m\u001b[0;34m\u001b[0m\u001b[0;34m\u001b[0m\u001b[0m\n\u001b[0m",
      "\u001b[0;31mModuleNotFoundError\u001b[0m: No module named 'lightgbm'"
     ]
    }
   ],
   "source": [
    "import lightgbm as lgb"
   ]
  },
  {
   "cell_type": "code",
   "execution_count": null,
   "metadata": {},
   "outputs": [],
   "source": []
  }
 ],
 "metadata": {
  "kernelspec": {
   "display_name": "Python 3",
   "language": "python",
   "name": "python3"
  },
  "language_info": {
   "codemirror_mode": {
    "name": "ipython",
    "version": 3
   },
   "file_extension": ".py",
   "mimetype": "text/x-python",
   "name": "python",
   "nbconvert_exporter": "python",
   "pygments_lexer": "ipython3",
   "version": "3.7.3"
  }
 },
 "nbformat": 4,
 "nbformat_minor": 4
}
